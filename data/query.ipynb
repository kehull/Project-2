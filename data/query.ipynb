{
 "cells": [
  {
   "cell_type": "code",
   "execution_count": null,
   "metadata": {
    "scrolled": true
   },
   "outputs": [],
   "source": [
    "# Import required libraries \n",
    "import sqlite3 \n",
    "import pandas as pd \n",
    "# import spatialite"
   ]
  },
  {
   "cell_type": "code",
   "execution_count": null,
   "metadata": {},
   "outputs": [],
   "source": [
    "# Connect to SQLite database \n",
    "conn = sqlite3.connect(r'californiadisasters.sqlite') "
   ]
  },
  {
   "cell_type": "code",
   "execution_count": null,
   "metadata": {},
   "outputs": [],
   "source": [
    "# conn.enable_load_extension(True)\n",
    "\n",
    "# conn.execute(\"select load_extension('mod_spatialite')\")"
   ]
  },
  {
   "cell_type": "code",
   "execution_count": null,
   "metadata": {},
   "outputs": [],
   "source": [
    "# Load CSV data into Pandas DataFrame \n",
    "fire_db = pd.read_csv('clean_fire.csv') \n",
    "# Write the data to a sqlite table \n",
    "fire_db.to_sql('WILDFIRES', conn, if_exists='replace', index=False) \n",
    "  \n",
    "# Create a cursor object \n",
    "cur = conn.cursor() \n",
    "\n",
    "# Fetch and display result \n",
    "for row in cur.execute('SELECT * FROM WILDFIRES'): \n",
    "    print(row)"
   ]
  },
  {
   "cell_type": "code",
   "execution_count": null,
   "metadata": {},
   "outputs": [],
   "source": [
    "# Load CSV data into Pandas DataFrame \n",
    "earthquake_db = pd.read_csv('California_EarthQuake.csv') \n",
    "# Write the data to a sqlite table \n",
    "earthquake_db.to_sql('EARTHQUAKES', conn, if_exists='replace', index=False) \n",
    "  \n",
    "# Fetch and display result \n",
    "for row in cur.execute('SELECT * FROM EARTHQUAKES'): \n",
    "    print(row)"
   ]
  },
  {
   "cell_type": "code",
   "execution_count": null,
   "metadata": {},
   "outputs": [],
   "source": [
    "# Load CSV data into Pandas DataFrame \n",
    "counties_db = pd.read_csv('County_Boundaries.csv') \n",
    "# Write the data to a sqlite table \n",
    "counties_db.to_sql('COUNTIES', conn, if_exists='replace', index=False) \n",
    "  \n",
    "# Fetch and display result \n",
    "for row in cur.execute('SELECT * FROM COUNTIES'): \n",
    "    print(row)"
   ]
  },
  {
   "cell_type": "code",
   "execution_count": null,
   "metadata": {},
   "outputs": [],
   "source": [
    "# Create the view which has a single coordinate for the Earthquake Data\n",
    "cur.execute('DROP VIEW IF EXISTS VW_EARTHQUAKE')\n",
    "cur.execute(\"CREATE VIEW VW_EARTHQUAKE AS SELECT EARTHQUAKES.place, EARTHQUAKES.time, EARTHQUAKES.magnitude, EARTHQUAKES.depth, ('[' + EARTHQUAKES.Latitude + ',' + EARTHQUAKES.Longitude + ']') AS coordinate FROM EARTHQUAKES\")\n",
    "\n",
    "# Fetch and display result \n",
    "for row in cur.execute('SELECT * FROM VW_EARTHQUAKE'): \n",
    "    print(row) "
   ]
  },
  {
   "cell_type": "code",
   "execution_count": null,
   "metadata": {
    "scrolled": true
   },
   "outputs": [],
   "source": [
    "# Create the view that does the geospacial join to grab the county each earthquake was\n",
    "# cur.execute('DROP VIEW IF EXISTS VW_SPATIAL_EARTHQUAKE')\n",
    "# cur.execute('CREATE VIEW VW_SPATIAL_EARTHQUAKE AS SELECT VW_EARTHQUAKE.place, COUNTIES.County, VW_EARTHQUAKE.time, VW_EARTHQUAKE.magnitude, VW_EARTHQUAKE.depth, VW_EARTHQUAKE.coordinate FROM COUNTIES INNER JOIN VW_EARTHQUAKE ON COUNTY.polygon.STIntersects(VW_EARTHQUAKE.coordinate) = 1')\n",
    "\n",
    "# Fetch and display result \n",
    "# for row in cur.execute('SELECT COUNTIES.county, VW_EARTHQUAKE.coordinate FROM COUNTIES INNER JOIN VW_EARTHQUAKE ON COUNTY.polygon.STIntersects(VW_EARTHQUAKE.coordinate) = 1'): \n",
    "#     print(row) "
   ]
  },
  {
   "cell_type": "code",
   "execution_count": null,
   "metadata": {},
   "outputs": [],
   "source": [
    "# Close connection to SQLite database \n",
    "conn.close()"
   ]
  },
  {
   "cell_type": "code",
   "execution_count": null,
   "metadata": {},
   "outputs": [],
   "source": []
  }
 ],
 "metadata": {
  "kernelspec": {
   "display_name": "Python 3",
   "language": "python",
   "name": "python3"
  },
  "language_info": {
   "codemirror_mode": {
    "name": "ipython",
    "version": 3
   },
   "file_extension": ".py",
   "mimetype": "text/x-python",
   "name": "python",
   "nbconvert_exporter": "python",
   "pygments_lexer": "ipython3",
   "version": "3.6.10"
  }
 },
 "nbformat": 4,
 "nbformat_minor": 4
}
