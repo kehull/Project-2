{
 "cells": [
  {
   "cell_type": "code",
   "execution_count": 1,
   "metadata": {},
   "outputs": [],
   "source": [
    "import pandas as pd"
   ]
  },
  {
   "cell_type": "code",
   "execution_count": 2,
   "metadata": {},
   "outputs": [
    {
     "data": {
      "text/html": [
       "<div>\n",
       "<style scoped>\n",
       "    .dataframe tbody tr th:only-of-type {\n",
       "        vertical-align: middle;\n",
       "    }\n",
       "\n",
       "    .dataframe tbody tr th {\n",
       "        vertical-align: top;\n",
       "    }\n",
       "\n",
       "    .dataframe thead th {\n",
       "        text-align: right;\n",
       "    }\n",
       "</style>\n",
       "<table border=\"1\" class=\"dataframe\">\n",
       "  <thead>\n",
       "    <tr style=\"text-align: right;\">\n",
       "      <th></th>\n",
       "      <th>place</th>\n",
       "      <th>county</th>\n",
       "      <th>time</th>\n",
       "      <th>magnitude</th>\n",
       "      <th>latitude</th>\n",
       "      <th>longitude</th>\n",
       "      <th>depth</th>\n",
       "    </tr>\n",
       "  </thead>\n",
       "  <tbody>\n",
       "    <tr>\n",
       "      <th>0</th>\n",
       "      <td>18km SSE of Lone Pine, CA</td>\n",
       "      <td>Inyo</td>\n",
       "      <td>1593020449240</td>\n",
       "      <td>5.80</td>\n",
       "      <td>36.446833</td>\n",
       "      <td>-117.975167</td>\n",
       "      <td>4.66</td>\n",
       "    </tr>\n",
       "    <tr>\n",
       "      <th>1</th>\n",
       "      <td>17km S of Searles Valley, CA</td>\n",
       "      <td>San Bernardino</td>\n",
       "      <td>1591234331140</td>\n",
       "      <td>5.51</td>\n",
       "      <td>35.614833</td>\n",
       "      <td>-117.428167</td>\n",
       "      <td>8.44</td>\n",
       "    </tr>\n",
       "    <tr>\n",
       "      <th>2</th>\n",
       "      <td>249 km W of Ferndale, California</td>\n",
       "      <td>Humboldt</td>\n",
       "      <td>1589785354591</td>\n",
       "      <td>5.30</td>\n",
       "      <td>40.848300</td>\n",
       "      <td>-127.191800</td>\n",
       "      <td>10.00</td>\n",
       "    </tr>\n",
       "    <tr>\n",
       "      <th>3</th>\n",
       "      <td>251 km W of Ferndale, California</td>\n",
       "      <td>Humboldt</td>\n",
       "      <td>1589784961579</td>\n",
       "      <td>5.00</td>\n",
       "      <td>40.771400</td>\n",
       "      <td>-127.227100</td>\n",
       "      <td>10.00</td>\n",
       "    </tr>\n",
       "    <tr>\n",
       "      <th>4</th>\n",
       "      <td>30km SE of Bodie, CA</td>\n",
       "      <td>Mono</td>\n",
       "      <td>1586615797040</td>\n",
       "      <td>5.24</td>\n",
       "      <td>38.052500</td>\n",
       "      <td>-118.733333</td>\n",
       "      <td>8.45</td>\n",
       "    </tr>\n",
       "  </tbody>\n",
       "</table>\n",
       "</div>"
      ],
      "text/plain": [
       "                              place          county           time  magnitude  \\\n",
       "0         18km SSE of Lone Pine, CA            Inyo  1593020449240       5.80   \n",
       "1      17km S of Searles Valley, CA  San Bernardino  1591234331140       5.51   \n",
       "2  249 km W of Ferndale, California        Humboldt  1589785354591       5.30   \n",
       "3  251 km W of Ferndale, California        Humboldt  1589784961579       5.00   \n",
       "4              30km SE of Bodie, CA            Mono  1586615797040       5.24   \n",
       "\n",
       "    latitude   longitude  depth  \n",
       "0  36.446833 -117.975167   4.66  \n",
       "1  35.614833 -117.428167   8.44  \n",
       "2  40.848300 -127.191800  10.00  \n",
       "3  40.771400 -127.227100  10.00  \n",
       "4  38.052500 -118.733333   8.45  "
      ]
     },
     "execution_count": 2,
     "metadata": {},
     "output_type": "execute_result"
    }
   ],
   "source": [
    "earthquake_counties = pd.read_csv('scrape_earthquake_counties.csv') \n",
    "earthquake_counties.head()"
   ]
  },
  {
   "cell_type": "code",
   "execution_count": 3,
   "metadata": {},
   "outputs": [
    {
     "data": {
      "text/html": [
       "<div>\n",
       "<style scoped>\n",
       "    .dataframe tbody tr th:only-of-type {\n",
       "        vertical-align: middle;\n",
       "    }\n",
       "\n",
       "    .dataframe tbody tr th {\n",
       "        vertical-align: top;\n",
       "    }\n",
       "\n",
       "    .dataframe thead th {\n",
       "        text-align: right;\n",
       "    }\n",
       "</style>\n",
       "<table border=\"1\" class=\"dataframe\">\n",
       "  <thead>\n",
       "    <tr style=\"text-align: right;\">\n",
       "      <th></th>\n",
       "      <th>place</th>\n",
       "      <th>county</th>\n",
       "      <th>earthquake_danger_score</th>\n",
       "    </tr>\n",
       "  </thead>\n",
       "  <tbody>\n",
       "    <tr>\n",
       "      <th>0</th>\n",
       "      <td>18km SSE of Lone Pine, CA</td>\n",
       "      <td>TBD</td>\n",
       "      <td>52.0</td>\n",
       "    </tr>\n",
       "    <tr>\n",
       "      <th>1</th>\n",
       "      <td>17km S of Searles Valley, CA</td>\n",
       "      <td>TBD</td>\n",
       "      <td>52.0</td>\n",
       "    </tr>\n",
       "    <tr>\n",
       "      <th>2</th>\n",
       "      <td>249 km W of Ferndale, California</td>\n",
       "      <td>TBD</td>\n",
       "      <td>52.0</td>\n",
       "    </tr>\n",
       "    <tr>\n",
       "      <th>3</th>\n",
       "      <td>251 km W of Ferndale, California</td>\n",
       "      <td>TBD</td>\n",
       "      <td>52.0</td>\n",
       "    </tr>\n",
       "    <tr>\n",
       "      <th>4</th>\n",
       "      <td>30km SE of Bodie, CA</td>\n",
       "      <td>TBD</td>\n",
       "      <td>52.0</td>\n",
       "    </tr>\n",
       "  </tbody>\n",
       "</table>\n",
       "</div>"
      ],
      "text/plain": [
       "                              place county  earthquake_danger_score\n",
       "0         18km SSE of Lone Pine, CA    TBD                     52.0\n",
       "1      17km S of Searles Valley, CA    TBD                     52.0\n",
       "2  249 km W of Ferndale, California    TBD                     52.0\n",
       "3  251 km W of Ferndale, California    TBD                     52.0\n",
       "4              30km SE of Bodie, CA    TBD                     52.0"
      ]
     },
     "execution_count": 3,
     "metadata": {},
     "output_type": "execute_result"
    }
   ],
   "source": [
    "earthquake_danger = pd.read_csv('earthquake_danger_csv') \n",
    "earthquake_danger.head()"
   ]
  },
  {
   "cell_type": "code",
   "execution_count": 4,
   "metadata": {},
   "outputs": [
    {
     "ename": "NameError",
     "evalue": "name 'earthquake_danger_score' is not defined",
     "output_type": "error",
     "traceback": [
      "\u001b[1;31m---------------------------------------------------------------------------\u001b[0m",
      "\u001b[1;31mNameError\u001b[0m                                 Traceback (most recent call last)",
      "\u001b[1;32m<ipython-input-4-1053c0c4dbc9>\u001b[0m in \u001b[0;36m<module>\u001b[1;34m\u001b[0m\n\u001b[0;32m      1\u001b[0m \u001b[0mmix\u001b[0m \u001b[1;33m=\u001b[0m \u001b[0mearthquake_counties\u001b[0m\u001b[1;33m.\u001b[0m\u001b[0mjoin\u001b[0m\u001b[1;33m(\u001b[0m\u001b[0mearthquake_danger\u001b[0m\u001b[1;33m,\u001b[0m \u001b[0mrsuffix\u001b[0m\u001b[1;33m=\u001b[0m\u001b[1;34m\"_r\"\u001b[0m\u001b[1;33m)\u001b[0m\u001b[1;33m\u001b[0m\u001b[1;33m\u001b[0m\u001b[0m\n\u001b[1;32m----> 2\u001b[1;33m \u001b[0mmix\u001b[0m\u001b[1;33m.\u001b[0m\u001b[0msort_values\u001b[0m\u001b[1;33m(\u001b[0m\u001b[0mearthquake_danger_score\u001b[0m\u001b[1;33m)\u001b[0m\u001b[1;33m.\u001b[0m\u001b[0mhead\u001b[0m\u001b[1;33m(\u001b[0m\u001b[1;33m)\u001b[0m\u001b[1;33m\u001b[0m\u001b[1;33m\u001b[0m\u001b[0m\n\u001b[0m",
      "\u001b[1;31mNameError\u001b[0m: name 'earthquake_danger_score' is not defined"
     ]
    }
   ],
   "source": [
    "mix = earthquake_counties.join(earthquake_danger, rsuffix=\"_r\")\n",
    "mix.sort_values(earthquake_danger_score).head()"
   ]
  },
  {
   "cell_type": "code",
   "execution_count": null,
   "metadata": {},
   "outputs": [],
   "source": [
    "earthquake_danger_score = mix[['place', 'county', 'earthquake_danger_score']]\n",
    "earthquake_danger_score.head()"
   ]
  },
  {
   "cell_type": "code",
   "execution_count": null,
   "metadata": {},
   "outputs": [],
   "source": [
    "eq_counts = earthquake_danger_score.groupby('county').count()\n",
    "eq_counts = eq_counts.rename(columns={\"place\":\"earthquakes_per_county\"}).drop(columns={'earthquake_danger_score'})\n",
    "eq_counts"
   ]
  },
  {
   "cell_type": "code",
   "execution_count": null,
   "metadata": {},
   "outputs": [],
   "source": [
    "eq_sums = earthquake_danger_score.groupby('county').sum()\n",
    "eq_sums"
   ]
  },
  {
   "cell_type": "code",
   "execution_count": null,
   "metadata": {},
   "outputs": [],
   "source": [
    "fire_counties = pd.read_csv('fire_danger_csv') \n",
    "fire_counties = fire_counties.round(0)\n",
    "fire_counties"
   ]
  },
  {
   "cell_type": "code",
   "execution_count": null,
   "metadata": {},
   "outputs": [],
   "source": [
    "fire_counts = fire_counties.groupby('county').count()\n",
    "fire_counts = fire_counts.rename(columns={\"incident_name\":\"fires_per_county\"}).drop(columns={'fire_danger_score'})\n",
    "fire_counts.head()"
   ]
  },
  {
   "cell_type": "code",
   "execution_count": null,
   "metadata": {},
   "outputs": [],
   "source": [
    "fire_sums = fire_counties.groupby('county').sum()\n",
    "fire_sums.head()"
   ]
  },
  {
   "cell_type": "code",
   "execution_count": null,
   "metadata": {},
   "outputs": [],
   "source": [
    "disaster_counts = fire_counts.join(eq_counts, how=\"outer\", on=\"county\")\n",
    "disaster_counts.head()"
   ]
  },
  {
   "cell_type": "code",
   "execution_count": null,
   "metadata": {},
   "outputs": [],
   "source": [
    "disaster_sums = fire_sums.join(eq_sums, how=\"outer\", on=\"county\")\n",
    "disaster_sums.head()"
   ]
  },
  {
   "cell_type": "code",
   "execution_count": null,
   "metadata": {},
   "outputs": [],
   "source": [
    "all_scores = disaster_counts.join(disaster_sums, how=\"outer\", on=\"county\").fillna(1).reset_index()\n",
    "all_scores.head()"
   ]
  },
  {
   "cell_type": "code",
   "execution_count": null,
   "metadata": {},
   "outputs": [],
   "source": [
    "i=0\n",
    "for index, row in all_scores.iterrows():\n",
    "    fire_freq = round(row[1]/7,2)\n",
    "    eq_freq = round(row[2]/7,2)\n",
    "    fire_danger= round(row[3]/7,2)\n",
    "    eq_danger = round(row[4]/7,2)\n",
    "    all_scores.at[i,'fire_freq'] = fire_freq\n",
    "    all_scores.at[i,'fire_danger'] = fire_danger\n",
    "    all_scores.at[i,'eq_freq'] = eq_freq\n",
    "    all_scores.at[i,'eq_danger'] = eq_danger\n",
    "    i=i+1\n",
    "all_scores.head()"
   ]
  },
  {
   "cell_type": "code",
   "execution_count": null,
   "metadata": {},
   "outputs": [],
   "source": [
    "i=0\n",
    "for index, row in all_scores.iterrows():\n",
    "    fire_danger = row[5]*row[6]\n",
    "    all_scores.at[i,'fire_danger'] = round(fire_danger)\n",
    "    eq_danger = row[5]*row[6]\n",
    "    all_scores.at[i,'earthquake_danger'] = round(eq_danger)\n",
    "    total_danger = (fire_danger+eq_danger)/2\n",
    "    all_scores.at[i,'total_danger'] = total_danger\n",
    "    i=i+1\n",
    "all_scores.sort_values('total_danger', ascending=False).head()"
   ]
  },
  {
   "cell_type": "code",
   "execution_count": null,
   "metadata": {},
   "outputs": [],
   "source": [
    "final_scores = all_scores[['county', 'total_danger']]\n",
    "\n",
    "final_scores.to_csv('county_danger_scores.csv', index=False)\n",
    "final = pd.read_csv('county_danger_scores.csv') \n",
    "final.head()"
   ]
  }
 ],
 "metadata": {
  "kernelspec": {
   "display_name": "Python 3",
   "language": "python",
   "name": "python3"
  },
  "language_info": {
   "codemirror_mode": {
    "name": "ipython",
    "version": 3
   },
   "file_extension": ".py",
   "mimetype": "text/x-python",
   "name": "python",
   "nbconvert_exporter": "python",
   "pygments_lexer": "ipython3",
   "version": "3.8.3"
  }
 },
 "nbformat": 4,
 "nbformat_minor": 4
}
